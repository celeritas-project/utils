{
 "cells": [
  {
   "attachments": {},
   "cell_type": "markdown",
   "metadata": {},
   "source": [
    "# Read Celeritas MC truth ROOT output\n",
    "\n",
    "Use `rootnb.exe` to start the Jupyter server. An Anaconda environment can be\n",
    "used, as long as the ROOT used is installed from conda itself.\n",
    "\n",
    "Since ROOT is a C++ interpreter, adding `%%cpp` at the top of a given cell\n",
    "allows C++ code to be executed. This can be useful while porting code from a\n",
    "ROOT C++ macro.\n",
    "\n",
    "The snipppet below opens a Celeritas MC truth output file, loops over the\n",
    "`steps` TTree, and plots a histogram."
   ]
  },
  {
   "cell_type": "code",
   "execution_count": null,
   "metadata": {},
   "outputs": [],
   "source": [
    "from ROOT import TFile, TTree, TLeaf, TH1D, TCanvas, gROOT, gPad"
   ]
  },
  {
   "cell_type": "code",
   "execution_count": null,
   "metadata": {},
   "outputs": [],
   "source": [
    "# Load Celeritas plot style (not needed, but improves aesthetics)\n",
    "gROOT.Macro(\"~/celeritas-project/celeritas-docs/utils/rootlogon.C\")"
   ]
  },
  {
   "cell_type": "code",
   "execution_count": null,
   "metadata": {},
   "outputs": [],
   "source": [
    "# Open ROOT file and load the TTree\n",
    "tfile = TFile(\"celeritas_output.root\", \"read\")\n",
    "steps_tree = tfile.Get(\"steps\")\n",
    "\n",
    "# Example histogram\n",
    "h_trackid = TH1D(\"track_id\", \"track_id\", 180, 0, 1800)\n",
    "\n",
    "# Loop over TTree entries and fill histogram with leaf data\n",
    "for i in range(steps_tree.GetEntries()):\n",
    "    steps_tree.GetEntry(i)\n",
    "    h_trackid.Fill(steps_tree.GetLeaf(\"track_id\").GetValue())\n",
    "\n",
    "# Create canvas, draw histogram on canvas, and draw canvas\n",
    "canvas = TCanvas(\"c1\", \"c1\", 600, 500)\n",
    "h_trackid.Draw()\n",
    "\n",
    "canvas.Draw()"
   ]
  }
 ],
 "metadata": {
  "kernelspec": {
   "display_name": "Python 3",
   "language": "python",
   "name": "python3"
  },
  "language_info": {
   "codemirror_mode": {
    "name": "ipython",
    "version": 3
   },
   "file_extension": ".py",
   "mimetype": "text/x-python",
   "name": "python",
   "nbconvert_exporter": "python",
   "pygments_lexer": "ipython3",
   "version": "3.10.9"
  },
  "orig_nbformat": 4,
  "vscode": {
   "interpreter": {
    "hash": "aee8b7b246df8f9039afb4144a1f6fd8d2ca17a180786b69acc140d282b71a49"
   }
  }
 },
 "nbformat": 4,
 "nbformat_minor": 2
}
