{
 "cells": [
  {
   "attachments": {},
   "cell_type": "markdown",
   "metadata": {},
   "source": [
    "# Read Celeritas MC truth ROOT output\n",
    "\n",
    "Use `rootnb.exe` to start the Jupyter server. An Anaconda environment can be\n",
    "used, as long as the ROOT used is installed from conda itself.\n",
    "\n",
    "Since ROOT is a C++ interpreter, adding `%%cpp` at the top of a given cell\n",
    "allows C++ code to be executed. This can be useful while porting code from a\n",
    "ROOT C++ macro."
   ]
  },
  {
   "cell_type": "code",
   "execution_count": 1,
   "metadata": {},
   "outputs": [
    {
     "name": "stdout",
     "output_type": "stream",
     "text": [
      "Welcome to JupyROOT 6.26/10\n"
     ]
    }
   ],
   "source": [
    "from ROOT import TFile, TTree, TLeaf, TCanvas, gDirectory, RDataFrame\n",
    "import numpy as np"
   ]
  },
  {
   "cell_type": "code",
   "execution_count": 2,
   "metadata": {},
   "outputs": [],
   "source": [
    "# Open ROOT file and load the TTree\n",
    "tfile = TFile(\"celeritas_output.root\", \"read\")\n",
    "steps_tree = tfile.Get(\"steps\")"
   ]
  },
  {
   "cell_type": "code",
   "execution_count": 3,
   "metadata": {},
   "outputs": [
    {
     "name": "stdout",
     "output_type": "stream",
     "text": [
      "{ \"pre-step\", \"eloss-range\", \"physics-discrete-select\", \"physics-integral-rejected\", \"ioni-moller-bhabha\", \"brems-combined\", \"photoel-livermore\", \"scat-klein-nishina\", \"conv-bethe-heitler\", \"scat-rayleigh\", \"physics-failure\", \"along-step-general-linear\", \"geo-boundary\", \"geo-propagation-limit\", \"diagnostics\", \"step-gather-pre\", \"step-gather-post\" }\n"
     ]
    }
   ],
   "source": [
    "# Fetch labels from core_params TTree\n",
    "params_tree = tfile.Get(\"core_params\")\n",
    "params_tree.GetEntry(0)\n",
    "labels = params_tree.action_labels\n",
    "\n",
    "# Labels follow the action_id values: action_label = labels[action_id]\n",
    "print(labels)"
   ]
  },
  {
   "cell_type": "markdown",
   "metadata": {},
   "source": [
    "## Example manually looping over tree entries and reading leaf values"
   ]
  },
  {
   "cell_type": "code",
   "execution_count": 5,
   "metadata": {},
   "outputs": [
    {
     "name": "stdout",
     "output_type": "stream",
     "text": [
      "--- Step 0\n",
      "event id: 0.0\n",
      "track id: 0.0\n",
      "step length (cm): 44.49982769207945\n",
      "dir (pre): 0.5198666288318229 -0.4292205465391231 -0.7385854118893036 \n",
      "\n",
      "--- Step 1\n",
      "event id: 0.0\n",
      "track id: 1.0\n",
      "step length (cm): 39.60563224677547\n",
      "dir (pre): 0.733954593624607 0.18726575230281323 0.6528722635491566 \n",
      "\n"
     ]
    }
   ],
   "source": [
    "# Example manually looping over the steps tree\n",
    "\n",
    "# Loop over maximum of 2 entries to avoid cluttering\n",
    "entries = [2, steps_tree.GetEntries()]\n",
    "max_entries = min(entries)\n",
    "\n",
    "# Loop over TTree entries and print a few leaves\n",
    "for i in range(max_entries):\n",
    "    steps_tree.GetEntry(i)\n",
    "    print(\"--- Step\", i)\n",
    "    print(\"event id:\", steps_tree.GetLeaf(\"event_id\").GetValue())\n",
    "    print(\"track id:\", steps_tree.GetLeaf(\"track_id\").GetValue())\n",
    "    print(\"step length (cm):\", steps_tree.GetLeaf(\"step_length\").GetValue())\n",
    "    print(\"dir (pre): \", end=\"\")\n",
    "    for j in range(3):\n",
    "        print(steps_tree.GetLeaf(\"pre_dir\").GetValue(j), end = \" \")\n",
    "    print()\n",
    "    print()\n",
    "\n"
   ]
  },
  {
   "attachments": {},
   "cell_type": "markdown",
   "metadata": {},
   "source": [
    "## Example on how to filter data using EList and RDataFrame"
   ]
  },
  {
   "cell_type": "code",
   "execution_count": 6,
   "metadata": {},
   "outputs": [
    {
     "name": "stdout",
     "output_type": "stream",
     "text": [
      "EventList:e_list/event_id == 0 && track_id == 10, number of entries =35, size=1000\n",
      "    0 :      32      64      96     128     160     192     224     256     288     320 \n",
      "   10 :     352     384     416     448     480     512     544     576     608     640 \n",
      "   20 :     672     704     736     768     800     832     864     896     928     960 \n",
      "   30 :     992    1024    1056    1088    1120 \n"
     ]
    }
   ],
   "source": [
    "# Create a filtered EList based on a set of conditions\n",
    "steps_tree.Draw(\">>e_list\", \"event_id == 0 && track_id == 10\")\n",
    "e_list = gDirectory.Get(\"e_list\")\n",
    "e_list.Print(\"all\")"
   ]
  },
  {
   "cell_type": "code",
   "execution_count": 7,
   "metadata": {},
   "outputs": [
    {
     "data": {
      "text/plain": [
       "{'track_id': ndarray([10, 10, 10, 10, 10, 10, 10, 10, 10, 10, 10, 10, 10, 10, 10, 10,\n",
       "          10, 10, 10, 10, 10, 10, 10, 10, 10, 10, 10, 10, 10, 10, 10, 10,\n",
       "          10, 10, 10], dtype=int32)}"
      ]
     },
     "execution_count": 7,
     "metadata": {},
     "output_type": "execute_result"
    }
   ],
   "source": [
    "# Equivalent case but using RDataFrame\n",
    "# https://root.cern/manual/data_frame/\n",
    "# https://root.cern/doc/master/classROOT_1_1RDataFrame.html\n",
    "\n",
    "df = RDataFrame(steps_tree)\n",
    "filtered_df = df.Filter(\"event_id == 0 && track_id == 10\")\n",
    "filtered_df.AsNumpy([\"track_id\"])"
   ]
  },
  {
   "cell_type": "markdown",
   "metadata": {},
   "source": [
    "## Compare results from EList selection and RDataFrame"
   ]
  },
  {
   "cell_type": "code",
   "execution_count": 8,
   "metadata": {},
   "outputs": [
    {
     "data": {
      "image/png": "[encoded data removed]",
      "text/plain": [
       "<IPython.core.display.Image object>"
      ]
     },
     "metadata": {},
     "output_type": "display_data"
    }
   ],
   "source": [
    "# Limit entries of steps_tree to the filtered entries\n",
    "steps_tree.SetEventList(e_list)\n",
    "\n",
    "# Open canvas, draw a given leaf and draw the canvas to the notebook\n",
    "c1 = TCanvas(\"c1\", \"c1\", 600, 500)\n",
    "steps_tree.Draw(\"pre_pos[0]\")\n",
    "c1.Draw()"
   ]
  },
  {
   "cell_type": "code",
   "execution_count": 9,
   "metadata": {},
   "outputs": [
    {
     "name": "stdout",
     "output_type": "stream",
     "text": [
      "OBJ: TList\tTList\tDoubly linked list : 0\n",
      " TFrame  X1= -42.300000 Y1=0.000000 X2=-35.100000 Y2=2.100000\n",
      " OBJ: TH1F\thtemp\tpre_pos[0] : 1 at: 0x7fee05af9be0\n",
      " OBJ: TPaveText\ttitle  \tX1= -39.703591 Y1=2.189206 X2=-37.696409 Y2=2.349375\n"
     ]
    }
   ],
   "source": [
    "# To update plot (colors, axes, titles):\n",
    "# Draw creates a temporary object stored in canvas\n",
    "c1.GetListOfPrimitives().ls()"
   ]
  },
  {
   "cell_type": "code",
   "execution_count": 10,
   "metadata": {},
   "outputs": [
    {
     "data": {
      "image/png": "[encoded data removed]",
      "text/plain": [
       "<IPython.core.display.Image object>"
      ]
     },
     "metadata": {},
     "output_type": "display_data"
    }
   ],
   "source": [
    "# Fetch histogram and update a random paramater\n",
    "histo_elist = c1.GetListOfPrimitives().FindObject(\"htemp\")\n",
    "histo_elist.SetLineColor(2)\n",
    "histo_elist.Draw()\n",
    "c1.Draw()"
   ]
  },
  {
   "cell_type": "code",
   "execution_count": 11,
   "metadata": {},
   "outputs": [],
   "source": [
    "\n",
    "# Create histogram using RDataFrame\n",
    "\n",
    "# For dir and pos, which are arrays of size 3\n",
    "histo_df = filtered_df.Define(\"pos_x\",\"pre_pos[0]\").Histo1D(\"pos_x\")\n",
    "\n",
    "# For all other values\n",
    "# histo_df = filtered_df.Histo1D(\"action_id\")\n"
   ]
  },
  {
   "cell_type": "code",
   "execution_count": 12,
   "metadata": {},
   "outputs": [
    {
     "data": {
      "image/png": "[encoded data removed]",
      "text/plain": [
       "<IPython.core.display.Image object>"
      ]
     },
     "metadata": {},
     "output_type": "display_data"
    }
   ],
   "source": [
    "histo_df.Draw()\n",
    "c1.Draw()"
   ]
  }
 ],
 "metadata": {
  "kernelspec": {
   "display_name": "Python 3",
   "language": "python",
   "name": "python3"
  },
  "language_info": {
   "codemirror_mode": {
    "name": "ipython",
    "version": 3
   },
   "file_extension": ".py",
   "mimetype": "text/x-python",
   "name": "python",
   "nbconvert_exporter": "python",
   "pygments_lexer": "ipython3",
   "version": "3.10.9"
  },
  "orig_nbformat": 4,
  "vscode": {
   "interpreter": {
    "hash": "aee8b7b246df8f9039afb4144a1f6fd8d2ca17a180786b69acc140d282b71a49"
   }
  }
 },
 "nbformat": 4,
 "nbformat_minor": 2
}
